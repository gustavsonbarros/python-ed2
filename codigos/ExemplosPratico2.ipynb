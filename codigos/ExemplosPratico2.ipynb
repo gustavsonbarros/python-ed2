{
 "cells": [
  {
   "cell_type": "markdown",
   "id": "2046eece",
   "metadata": {},
   "source": [
    "## Exemplo de Buscas de Hashing \n",
    "- Verificar se o cliente já está cadastrado\n"
   ]
  },
  {
   "cell_type": "code",
   "execution_count": 1,
   "id": "6f4352cf",
   "metadata": {},
   "outputs": [
    {
     "name": "stdout",
     "output_type": "stream",
     "text": [
      "False\n",
      "True\n"
     ]
    }
   ],
   "source": [
    "clientes = {\"Ana\": True, \"Bruno\": True, \"Carlos\": True}\n",
    "\n",
    "# Verificando se um nome está na base\n",
    "print(\"Daniel\" in clientes)  \n",
    "print(\"Ana\" in clientes)     \n"
   ]
  },
  {
   "cell_type": "markdown",
   "id": "738985fa",
   "metadata": {},
   "source": [
    "## Sistema de login simples (usuário e senha)"
   ]
  },
  {
   "cell_type": "code",
   "execution_count": 2,
   "id": "a1c5c3f0",
   "metadata": {},
   "outputs": [
    {
     "name": "stdout",
     "output_type": "stream",
     "text": [
      "Login autorizado\n"
     ]
    }
   ],
   "source": [
    "usuarios = {\n",
    "    \"ana123\": \"senha123\",\n",
    "    \"bruno_dev\": \"123456\",\n",
    "    \"carlos21\": \"abc123\"\n",
    "}\n",
    "\n",
    "# Verifica se o usuário existe e a senha está correta\n",
    "usuario = \"bruno_dev\"\n",
    "senha = \"123456\"\n",
    "\n",
    "if usuario in usuarios and usuarios[usuario] == senha:\n",
    "    print(\"Login autorizado\")\n",
    "else:\n",
    "    print(\"Usuário ou senha inválidos\")\n"
   ]
  },
  {
   "cell_type": "markdown",
   "id": "c49fab66",
   "metadata": {},
   "source": [
    "## Verificar se um produto está em estoque\n",
    "\n"
   ]
  },
  {
   "cell_type": "code",
   "execution_count": 3,
   "id": "91848646",
   "metadata": {},
   "outputs": [
    {
     "name": "stdout",
     "output_type": "stream",
     "text": [
      "Teclado está disponível com 12 unidades.\n"
     ]
    }
   ],
   "source": [
    "estoque = {\n",
    "    \"Mouse\": 25,\n",
    "    \"Teclado\": 12,\n",
    "    \"Monitor\": 7\n",
    "}\n",
    "\n",
    "produto = \"Teclado\"\n",
    "\n",
    "if produto in estoque:\n",
    "    print(f\"{produto} está disponível com {estoque[produto]} unidades.\")\n",
    "else:\n",
    "    print(f\"{produto} não está no estoque.\")\n"
   ]
  },
  {
   "cell_type": "markdown",
   "id": "909a10a1",
   "metadata": {},
   "source": [
    "## Verificar se um CPF já foi registrado\n"
   ]
  },
  {
   "cell_type": "code",
   "execution_count": 4,
   "id": "aa09c320",
   "metadata": {},
   "outputs": [
    {
     "name": "stdout",
     "output_type": "stream",
     "text": [
      "CPF já registrado no sistema.\n"
     ]
    }
   ],
   "source": [
    "cpfs_registrados = {\n",
    "    \"123.456.789-00\": True,\n",
    "    \"987.654.321-00\": True\n",
    "}\n",
    "\n",
    "cpf = \"123.456.789-00\"\n",
    "\n",
    "if cpf in cpfs_registrados:\n",
    "    print(\"CPF já registrado no sistema.\")\n",
    "else:\n",
    "    print(\"CPF disponível para cadastro.\")\n"
   ]
  },
  {
   "cell_type": "code",
   "execution_count": null,
   "id": "7d598550",
   "metadata": {},
   "outputs": [],
   "source": []
  }
 ],
 "metadata": {
  "kernelspec": {
   "display_name": "Python 3 (ipykernel)",
   "language": "python",
   "name": "python3"
  },
  "language_info": {
   "codemirror_mode": {
    "name": "ipython",
    "version": 3
   },
   "file_extension": ".py",
   "mimetype": "text/x-python",
   "name": "python",
   "nbconvert_exporter": "python",
   "pygments_lexer": "ipython3",
   "version": "3.11.3"
  }
 },
 "nbformat": 4,
 "nbformat_minor": 5
}
