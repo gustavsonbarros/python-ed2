{
 "cells": [
  {
   "cell_type": "markdown",
   "id": "96210219",
   "metadata": {},
   "source": [
    "#  Suponha que temos uma lista de nomes:\n"
   ]
  },
  {
   "cell_type": "code",
   "execution_count": 19,
   "id": "4383e82d",
   "metadata": {},
   "outputs": [],
   "source": [
    "nomes = [\"Ana\", \"Bruno\", \"Carlos\", \"Daniel\", \"Eduarda\", \"Fernanda\", \"Gabriel\"]\n"
   ]
  },
  {
   "cell_type": "markdown",
   "id": "22a4d2db",
   "metadata": {},
   "source": [
    "## Busca Linear (vai olhando um por um)\n",
    "- Tempo médio: O(n)\n",
    "- Vai do começo até achar ou acabar. É lenta se a lista for grande."
   ]
  },
  {
   "cell_type": "code",
   "execution_count": 20,
   "id": "424eb99b",
   "metadata": {},
   "outputs": [
    {
     "name": "stdout",
     "output_type": "stream",
     "text": [
      "True\n"
     ]
    }
   ],
   "source": [
    "def busca_linear(lista, alvo):\n",
    "    for nome in lista:\n",
    "        if nome == alvo:\n",
    "            return True\n",
    "    return False\n",
    "\n",
    "print(busca_linear(nomes, \"Daniel\"))  # True\n"
   ]
  },
  {
   "cell_type": "markdown",
   "id": "1c56e695",
   "metadata": {},
   "source": [
    "# Busca Binária (corta pela metade a iteração)\n",
    "\n",
    "- Só funciona se a lista estiver ordenada\n",
    "- Tempo médio: O(log n)\n",
    "- Bem mais rápida que a linear, mas precisa da lista ordenada."
   ]
  },
  {
   "cell_type": "code",
   "execution_count": null,
   "id": "ae42eb3c",
   "metadata": {},
   "outputs": [],
   "source": [
    "def busca_binaria(lista, alvo):\n",
    "    inicio = 0\n",
    "    fim = len(lista) - 1\n",
    "    \n",
    "    while inicio <= fim:\n",
    "        meio = (inicio + fim) // 2\n",
    "        if lista[meio] == alvo:\n",
    "            return True\n",
    "        elif lista[meio] < alvo:\n",
    "            inicio = meio + 1\n",
    "        else:\n",
    "            fim = meio - 1\n",
    "    return False\n",
    "\n",
    "print(busca_binaria(nomes, \"Daniel\"))  # True\n"
   ]
  },
  {
   "cell_type": "markdown",
   "id": "04fab8a0",
   "metadata": {},
   "source": [
    "## Busca com Hashing (usa dicionário)\n",
    "\n",
    "- Busca praticamente instantânea, porque o Python já sabe onde está!\n",
    "- Tempo médio: O(1)\n",
    "- Extremamente rápido, mesmo com milhões de nomes."
   ]
  },
  {
   "cell_type": "code",
   "execution_count": 22,
   "id": "d64a7656",
   "metadata": {},
   "outputs": [
    {
     "name": "stdout",
     "output_type": "stream",
     "text": [
      "True\n"
     ]
    }
   ],
   "source": [
    "# Transforma a lista em um dicionário só com os nomes como chave\n",
    "\n",
    "nomes_hash = {\n",
    "    \"Ana\": True,\n",
    "    \"Bruno\": True,\n",
    "    \"Carlos\": True,\n",
    "    \"Daniel\": True,\n",
    "    \"Eduarda\": True,\n",
    "    \"Fernanda\": True,\n",
    "    \"Gabriel\": True\n",
    "}\n",
    "\n",
    "print(\"Daniel\" in nomes_hash)  # True\n"
   ]
  },
  {
   "cell_type": "code",
   "execution_count": null,
   "id": "cb8cb344",
   "metadata": {},
   "outputs": [],
   "source": []
  }
 ],
 "metadata": {
  "kernelspec": {
   "display_name": "Python 3 (ipykernel)",
   "language": "python",
   "name": "python3"
  },
  "language_info": {
   "codemirror_mode": {
    "name": "ipython",
    "version": 3
   },
   "file_extension": ".py",
   "mimetype": "text/x-python",
   "name": "python",
   "nbconvert_exporter": "python",
   "pygments_lexer": "ipython3",
   "version": "3.11.3"
  }
 },
 "nbformat": 4,
 "nbformat_minor": 5
}
