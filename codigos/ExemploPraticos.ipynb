{
 "cells": [
  {
   "cell_type": "markdown",
   "id": "ae39aaff",
   "metadata": {},
   "source": [
    "## Armazenamento de Senhas (hash seguro)\n",
    "- Situação real: Você cria um sistema com login e senha.\n",
    "- Solução: Salvamos apenas o hash da senha, que é como uma impressão digital — não dá pra voltar à senha original.\n",
    "\n"
   ]
  },
  {
   "cell_type": "code",
   "execution_count": 1,
   "id": "474074b4",
   "metadata": {},
   "outputs": [
    {
     "name": "stdout",
     "output_type": "stream",
     "text": [
      "Hash salvo no banco: c6ffa01771f25898ff48d332666e01ab7ab83cf65ad9792da9c0a1c4c46d565f\n"
     ]
    }
   ],
   "source": [
    "import hashlib\n",
    "\n",
    "senha = \"minha_senha_123\"\n",
    "hash_senha = hashlib.sha256(senha.encode()).hexdigest()\n",
    "\n",
    "print(\"Hash salvo no banco:\", hash_senha)\n"
   ]
  },
  {
   "cell_type": "markdown",
   "id": "3a707222",
   "metadata": {},
   "source": [
    "## Agenda de Contatos (dicionário em Python)\n",
    "- Situação real: Você faz um app de contatos. Precisa buscar nomes rápido.\n",
    "- Solução: Use dict, que é uma tabela hash por dentro."
   ]
  },
  {
   "cell_type": "code",
   "execution_count": 2,
   "id": "8507ab79",
   "metadata": {},
   "outputs": [
    {
     "name": "stdout",
     "output_type": "stream",
     "text": [
      "8888-2222\n"
     ]
    }
   ],
   "source": [
    "agenda = {\n",
    "    \"Ana\": \"9999-1111\",\n",
    "    \"João\": \"8888-2222\"\n",
    "}\n",
    "\n",
    "print(agenda[\"João\"])  # Busca super rápida! "
   ]
  },
  {
   "cell_type": "markdown",
   "id": "385acca8",
   "metadata": {},
   "source": [
    "## Tabelas de Símbolos (em compiladores)\n",
    "\n",
    "- Situação real: Você está construindo um compilador que precisa saber se uma variável já foi declarada.\n",
    "\n",
    "- Solução: Usa uma tabela hash pra guardar os nomes e tipos.\n",
    "\n"
   ]
  },
  {
   "cell_type": "code",
   "execution_count": 3,
   "id": "6bc5b01d",
   "metadata": {},
   "outputs": [
    {
     "name": "stdout",
     "output_type": "stream",
     "text": [
      "Variável 'x' já declarada.\n"
     ]
    }
   ],
   "source": [
    "tabela_simbolos = {\n",
    "    \"x\": {\"tipo\": \"int\", \"linha\": 1},\n",
    "    \"soma\": {\"tipo\": \"função\", \"linha\": 3}\n",
    "}\n",
    "\n",
    "# Verifica se a variável já existe\n",
    "if \"x\" in tabela_simbolos:\n",
    "    print(\"Variável 'x' já declarada.\")\n"
   ]
  },
  {
   "cell_type": "code",
   "execution_count": null,
   "id": "25cc005e",
   "metadata": {},
   "outputs": [],
   "source": []
  }
 ],
 "metadata": {
  "kernelspec": {
   "display_name": "Python 3 (ipykernel)",
   "language": "python",
   "name": "python3"
  },
  "language_info": {
   "codemirror_mode": {
    "name": "ipython",
    "version": 3
   },
   "file_extension": ".py",
   "mimetype": "text/x-python",
   "name": "python",
   "nbconvert_exporter": "python",
   "pygments_lexer": "ipython3",
   "version": "3.11.3"
  }
 },
 "nbformat": 4,
 "nbformat_minor": 5
}
